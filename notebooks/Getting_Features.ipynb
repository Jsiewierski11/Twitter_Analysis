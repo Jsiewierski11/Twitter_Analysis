{
 "cells": [
  {
   "cell_type": "code",
   "execution_count": 1,
   "metadata": {},
   "outputs": [],
   "source": [
    "import numpy as np\n",
    "import pandas as pd\n",
    "import matplotlib.pyplot as plt\n",
    "\n",
    "from sklearn import utils\n",
    "from sklearn.model_selection import train_test_split\n",
    "from sklearn.linear_model import LogisticRegression\n",
    "from sklearn.utils import resample\n",
    "from sklearn.feature_extraction.text import CountVectorizer\n",
    "from sklearn.feature_extraction.text import TfidfTransformer\n",
    "from sklearn.naive_bayes import MultinomialNB\n",
    "from sklearn.metrics import average_precision_score, accuracy_score, confusion_matrix, classification_report"
   ]
  },
  {
   "cell_type": "code",
   "execution_count": 23,
   "metadata": {},
   "outputs": [],
   "source": [
    "df = pd.read_csv('../data/full-corpus.csv')"
   ]
  },
  {
   "cell_type": "markdown",
   "metadata": {},
   "source": [
    "## Balancing Classes"
   ]
  },
  {
   "cell_type": "code",
   "execution_count": 24,
   "metadata": {},
   "outputs": [],
   "source": [
    "def get_sentiment_df(df):\n",
    "    pos_df = df[df['Sentiment'] == 'positive']\n",
    "    neg_df = df[df['Sentiment'] == 'negative']\n",
    "    neutral_df = df[df['Sentiment'] == 'neutral']\n",
    "    irr_df = df[df['Sentiment'] == 'irrelevant']\n",
    "    return pos_df, neg_df, neutral_df, irr_df"
   ]
  },
  {
   "cell_type": "code",
   "execution_count": 25,
   "metadata": {},
   "outputs": [],
   "source": [
    "pos_df, neg_df, neutral_df, irr_df = get_sentiment_df(df)"
   ]
  },
  {
   "cell_type": "code",
   "execution_count": 26,
   "metadata": {},
   "outputs": [
    {
     "data": {
      "text/plain": [
       "519"
      ]
     },
     "execution_count": 26,
     "metadata": {},
     "output_type": "execute_result"
    }
   ],
   "source": [
    "# Downsample negative class to match positive class\n",
    "df_neg_down = resample(neg_df,\n",
    "                    replace=False,    # sample without replacement\n",
    "                    n_samples=len(pos_df),     # to match minority class\n",
    "                    random_state=42) # reproducible results\n",
    "len(df_neg_down)"
   ]
  },
  {
   "cell_type": "code",
   "execution_count": 27,
   "metadata": {},
   "outputs": [
    {
     "data": {
      "text/plain": [
       "519"
      ]
     },
     "execution_count": 27,
     "metadata": {},
     "output_type": "execute_result"
    }
   ],
   "source": [
    "# Downsample negative class to match positive class\n",
    "df_neutral_down = resample(neutral_df,\n",
    "                    replace=False,    # sample without replacement\n",
    "                    n_samples=len(pos_df),     # to match minority class\n",
    "                    random_state=42) # reproducible results\n",
    "len(df_neutral_down)"
   ]
  },
  {
   "cell_type": "code",
   "execution_count": 28,
   "metadata": {},
   "outputs": [
    {
     "data": {
      "text/plain": [
       "519"
      ]
     },
     "execution_count": 28,
     "metadata": {},
     "output_type": "execute_result"
    }
   ],
   "source": [
    "# Downsample negative class to match positive class\n",
    "df_irr_down = resample(irr_df,\n",
    "                    replace=False,    # sample without replacement\n",
    "                    n_samples=len(pos_df),     # to match minority class\n",
    "                    random_state=42) # reproducible results\n",
    "len(df_irr_down)"
   ]
  },
  {
   "cell_type": "code",
   "execution_count": 29,
   "metadata": {},
   "outputs": [],
   "source": [
    "df_balanced = pd.concat([pos_df, df_neg_down, df_neutral_down])"
   ]
  },
  {
   "cell_type": "markdown",
   "metadata": {},
   "source": [
    "## Performing Sentiment Classification on Balanced Dataset"
   ]
  },
  {
   "cell_type": "code",
   "execution_count": 30,
   "metadata": {},
   "outputs": [
    {
     "data": {
      "text/plain": [
       "0    positive\n",
       "1    positive\n",
       "2    positive\n",
       "3    positive\n",
       "4    positive\n",
       "Name: Sentiment, dtype: object"
      ]
     },
     "execution_count": 30,
     "metadata": {},
     "output_type": "execute_result"
    }
   ],
   "source": [
    "y = df_balanced.pop('Sentiment')\n",
    "y.head()"
   ]
  },
  {
   "cell_type": "code",
   "execution_count": 32,
   "metadata": {},
   "outputs": [],
   "source": [
    "X_train, X_test, y_train, y_test = train_test_split(df_balanced, y, random_state=42)"
   ]
  },
  {
   "cell_type": "code",
   "execution_count": 33,
   "metadata": {},
   "outputs": [],
   "source": [
    "train_text = X_train['TweetText'].to_numpy()\n",
    "test_text = X_test['TweetText'].to_numpy()"
   ]
  },
  {
   "cell_type": "code",
   "execution_count": 34,
   "metadata": {},
   "outputs": [],
   "source": [
    "count_vect = CountVectorizer()\n",
    "X_train_counts = count_vect.fit_transform(train_text)\n",
    "tfidf_transformer = TfidfTransformer()"
   ]
  },
  {
   "cell_type": "code",
   "execution_count": 35,
   "metadata": {},
   "outputs": [
    {
     "data": {
      "text/plain": [
       "MultinomialNB(alpha=1.0, class_prior=None, fit_prior=True)"
      ]
     },
     "execution_count": 35,
     "metadata": {},
     "output_type": "execute_result"
    }
   ],
   "source": [
    "X_train_tfidf = tfidf_transformer.fit_transform(X_train_counts)\n",
    "clf = MultinomialNB()\n",
    "clf.fit(X_train_tfidf, y_train)"
   ]
  },
  {
   "cell_type": "code",
   "execution_count": 36,
   "metadata": {},
   "outputs": [
    {
     "data": {
      "text/plain": [
       "0.6435897435897436"
      ]
     },
     "execution_count": 36,
     "metadata": {},
     "output_type": "execute_result"
    }
   ],
   "source": [
    "y_pred = clf.predict(count_vect.transform(test_text))\n",
    "# print(average_precision_score(y_test, y_pred))\n",
    "accuracy_score(y_test, y_pred)"
   ]
  },
  {
   "cell_type": "markdown",
   "metadata": {},
   "source": [
    "## Now that model is trained, Get misclassified tweet examples"
   ]
  },
  {
   "cell_type": "code",
   "execution_count": 38,
   "metadata": {},
   "outputs": [
    {
     "data": {
      "text/plain": [
       "array(['negative', 'positive', 'positive', 'neutral', 'negative',\n",
       "       'negative', 'positive', 'positive', 'negative', 'negative',\n",
       "       'negative', 'negative', 'negative', 'positive', 'negative',\n",
       "       'neutral', 'negative', 'positive', 'positive', 'neutral',\n",
       "       'negative', 'positive', 'negative', 'negative', 'positive',\n",
       "       'positive', 'positive', 'positive', 'positive', 'positive',\n",
       "       'negative', 'positive', 'negative', 'positive', 'positive',\n",
       "       'positive', 'positive', 'negative', 'positive', 'negative',\n",
       "       'positive', 'positive', 'positive', 'negative', 'negative',\n",
       "       'negative', 'positive', 'negative', 'positive', 'negative',\n",
       "       'positive', 'neutral', 'positive', 'neutral', 'negative',\n",
       "       'neutral', 'negative', 'negative', 'positive', 'negative',\n",
       "       'positive', 'negative', 'positive', 'positive', 'positive',\n",
       "       'positive', 'neutral', 'negative', 'neutral', 'positive',\n",
       "       'positive', 'negative', 'negative', 'positive', 'negative',\n",
       "       'neutral', 'positive', 'negative', 'positive', 'positive',\n",
       "       'negative', 'negative', 'negative', 'positive', 'positive',\n",
       "       'positive', 'positive', 'positive', 'negative', 'positive',\n",
       "       'negative', 'negative', 'negative', 'positive', 'negative',\n",
       "       'neutral', 'positive', 'negative', 'negative', 'positive',\n",
       "       'negative', 'neutral', 'negative', 'positive', 'neutral',\n",
       "       'positive', 'positive', 'negative', 'positive', 'negative',\n",
       "       'positive', 'negative', 'positive', 'neutral', 'positive',\n",
       "       'negative', 'positive', 'neutral', 'positive', 'positive',\n",
       "       'negative', 'positive', 'neutral', 'positive', 'neutral',\n",
       "       'positive', 'negative', 'neutral', 'negative', 'negative',\n",
       "       'negative', 'positive', 'neutral', 'positive', 'negative',\n",
       "       'positive', 'neutral', 'negative', 'neutral', 'negative',\n",
       "       'negative', 'positive', 'negative', 'neutral', 'negative',\n",
       "       'negative', 'negative', 'positive', 'negative', 'neutral',\n",
       "       'neutral', 'negative', 'neutral', 'neutral', 'neutral', 'negative',\n",
       "       'negative', 'positive', 'negative', 'negative', 'positive',\n",
       "       'neutral', 'positive', 'positive', 'positive', 'neutral',\n",
       "       'positive', 'neutral', 'positive', 'positive', 'negative',\n",
       "       'positive', 'positive', 'neutral', 'positive', 'neutral',\n",
       "       'positive', 'negative', 'negative', 'neutral', 'neutral',\n",
       "       'negative', 'neutral', 'neutral', 'negative', 'negative',\n",
       "       'negative', 'positive', 'negative', 'positive', 'negative',\n",
       "       'negative', 'negative', 'negative', 'negative', 'neutral',\n",
       "       'neutral', 'negative', 'neutral', 'negative', 'negative',\n",
       "       'negative', 'neutral', 'neutral', 'positive', 'positive',\n",
       "       'neutral', 'neutral', 'negative', 'negative', 'positive',\n",
       "       'positive', 'negative', 'negative', 'negative', 'neutral',\n",
       "       'negative', 'negative', 'neutral', 'positive', 'positive',\n",
       "       'negative', 'negative', 'positive', 'positive', 'negative',\n",
       "       'positive', 'neutral', 'negative', 'negative', 'positive',\n",
       "       'negative', 'positive', 'neutral', 'negative', 'neutral',\n",
       "       'neutral', 'negative', 'positive', 'negative', 'positive',\n",
       "       'positive', 'negative', 'positive', 'positive', 'negative',\n",
       "       'neutral', 'negative', 'neutral', 'neutral', 'negative',\n",
       "       'negative', 'positive', 'neutral', 'neutral', 'neutral',\n",
       "       'positive', 'positive', 'neutral', 'positive', 'neutral',\n",
       "       'positive', 'negative', 'positive', 'negative', 'positive',\n",
       "       'positive', 'negative', 'positive', 'negative', 'negative',\n",
       "       'negative', 'positive', 'positive', 'positive', 'positive',\n",
       "       'positive', 'positive', 'neutral', 'neutral', 'neutral',\n",
       "       'positive', 'negative', 'negative', 'positive', 'negative',\n",
       "       'neutral', 'neutral', 'neutral', 'positive', 'negative',\n",
       "       'negative', 'negative', 'negative', 'positive', 'neutral',\n",
       "       'negative', 'negative', 'positive', 'neutral', 'neutral',\n",
       "       'positive', 'neutral', 'positive', 'negative', 'neutral',\n",
       "       'neutral', 'neutral', 'positive', 'neutral', 'negative',\n",
       "       'positive', 'negative', 'negative', 'negative', 'positive',\n",
       "       'positive', 'neutral', 'positive', 'negative', 'neutral',\n",
       "       'neutral', 'neutral', 'positive', 'negative', 'neutral',\n",
       "       'positive', 'positive', 'negative', 'positive', 'negative',\n",
       "       'neutral', 'negative', 'neutral', 'neutral', 'neutral', 'negative',\n",
       "       'neutral', 'negative', 'positive', 'positive', 'negative',\n",
       "       'neutral', 'negative', 'negative', 'neutral', 'negative',\n",
       "       'negative', 'negative', 'neutral', 'negative', 'neutral',\n",
       "       'neutral', 'negative', 'negative', 'negative', 'neutral',\n",
       "       'neutral', 'negative', 'negative', 'neutral', 'positive',\n",
       "       'positive', 'negative', 'neutral', 'negative', 'neutral',\n",
       "       'neutral', 'negative', 'positive', 'positive', 'negative',\n",
       "       'positive', 'positive', 'positive', 'positive', 'positive',\n",
       "       'positive', 'positive', 'neutral', 'neutral', 'negative',\n",
       "       'positive', 'positive', 'neutral', 'negative', 'positive',\n",
       "       'positive', 'neutral', 'negative'], dtype='<U8')"
      ]
     },
     "execution_count": 38,
     "metadata": {},
     "output_type": "execute_result"
    }
   ],
   "source": [
    "y_pred"
   ]
  },
  {
   "cell_type": "code",
   "execution_count": 39,
   "metadata": {},
   "outputs": [
    {
     "data": {
      "text/plain": [
       "2831     neutral\n",
       "1146    positive\n",
       "1331    positive\n",
       "3834    positive\n",
       "3237     neutral\n",
       "4210     neutral\n",
       "59      positive\n",
       "2508    positive\n",
       "445     negative\n",
       "1332    positive\n",
       "30      positive\n",
       "547      neutral\n",
       "347     negative\n",
       "1807     neutral\n",
       "466     negative\n",
       "2851     neutral\n",
       "2467    positive\n",
       "1329    positive\n",
       "1857     neutral\n",
       "1355    negative\n",
       "418     negative\n",
       "1808     neutral\n",
       "191     negative\n",
       "346     negative\n",
       "162     positive\n",
       "2473    positive\n",
       "1218    positive\n",
       "1252    positive\n",
       "1239    positive\n",
       "3940    negative\n",
       "          ...   \n",
       "3859    positive\n",
       "1232    positive\n",
       "1300    positive\n",
       "4184     neutral\n",
       "2704     neutral\n",
       "2563    negative\n",
       "1426     neutral\n",
       "1803     neutral\n",
       "388     negative\n",
       "1925     neutral\n",
       "3912    negative\n",
       "86      positive\n",
       "4279     neutral\n",
       "1343    positive\n",
       "1243    positive\n",
       "1265    positive\n",
       "1895     neutral\n",
       "1336    positive\n",
       "436     negative\n",
       "962      neutral\n",
       "3945    negative\n",
       "886      neutral\n",
       "1815     neutral\n",
       "1199    positive\n",
       "113     positive\n",
       "274     negative\n",
       "1422     neutral\n",
       "1152    positive\n",
       "3830    positive\n",
       "3964     neutral\n",
       "Name: Sentiment, Length: 390, dtype: object"
      ]
     },
     "execution_count": 39,
     "metadata": {},
     "output_type": "execute_result"
    }
   ],
   "source": [
    "y_test"
   ]
  },
  {
   "cell_type": "markdown",
   "metadata": {},
   "source": [
    "Following tweet in test set was classified as negative when it should have been neutral"
   ]
  },
  {
   "cell_type": "code",
   "execution_count": 41,
   "metadata": {},
   "outputs": [
    {
     "data": {
      "text/plain": [
       "'Listening to Doug Leland #Microsoft  big data guru. Social media impact huge not just data wise, but within tools to manage data #gartnerSYM'"
      ]
     },
     "execution_count": 41,
     "metadata": {},
     "output_type": "execute_result"
    }
   ],
   "source": [
    "test_text[0]"
   ]
  },
  {
   "cell_type": "markdown",
   "metadata": {},
   "source": [
    "Following tweet predicted as negative when true label is positive"
   ]
  },
  {
   "cell_type": "code",
   "execution_count": 43,
   "metadata": {},
   "outputs": [
    {
     "data": {
      "text/plain": [
       "'Seriously!? Why do I still find the yellow pages ph book at my doorstep? These days I just #google it on my iphone.'"
      ]
     },
     "execution_count": 43,
     "metadata": {},
     "output_type": "execute_result"
    }
   ],
   "source": [
    "test_text[9]"
   ]
  },
  {
   "cell_type": "markdown",
   "metadata": {},
   "source": [
    "## Get word associated with Negative and Positive Tweets"
   ]
  },
  {
   "cell_type": "code",
   "execution_count": 45,
   "metadata": {},
   "outputs": [
    {
     "data": {
      "text/plain": [
       "array([[4116, 3503, 1981, ...,  307, 3549, 1506],\n",
       "       [   0, 2295, 2296, ..., 3707,  748, 1691],\n",
       "       [   0, 2311, 2312, ..., 3624, 3549,  307]])"
      ]
     },
     "execution_count": 45,
     "metadata": {},
     "output_type": "execute_result"
    }
   ],
   "source": [
    "ind_max = clf.feature_log_prob_.argsort()[::-1]\n",
    "ind_max"
   ]
  },
  {
   "cell_type": "code",
   "execution_count": 46,
   "metadata": {},
   "outputs": [
    {
     "data": {
      "text/plain": [
       "(3, 100)"
      ]
     },
     "execution_count": 46,
     "metadata": {},
     "output_type": "execute_result"
    }
   ],
   "source": [
    "ind_top = ind_max[:,:100]\n",
    "ind_top.shape"
   ]
  },
  {
   "cell_type": "code",
   "execution_count": 51,
   "metadata": {},
   "outputs": [
    {
     "data": {
      "text/plain": [
       "(4117,)"
      ]
     },
     "execution_count": 51,
     "metadata": {},
     "output_type": "execute_result"
    }
   ],
   "source": [
    "feature_names = np.array(count_vect.get_feature_names())\n",
    "feature_names.shape"
   ]
  },
  {
   "cell_type": "code",
   "execution_count": 48,
   "metadata": {},
   "outputs": [
    {
     "data": {
      "text/plain": [
       "array(['zzzzzzzzzzzzzzzzzzzz', 'tcpj_mickey', 'kdtd4zre',\n",
       "       'keepnupwittboyd', 'keepsake', 'keepthedesktop', 'tcmagazine',\n",
       "       'tbnyx7p7', 'key', 'keyboards', 'keynotes', 'keys', 'kfwq8r4t',\n",
       "       'khoslaventures', 'kickoff', 'kid', 'kidding', 'kill', 'karşı',\n",
       "       'karth_vader_', 'kalifornia', 'kaiylw0lf', 'john', 'johnnyvegas',\n",
       "       'join', 'jolieesharmeda', 'jolly', 'teched_na', 'jsq96nuq',\n",
       "       'techcrunch', 'killed', 'teamed', 'justin', 'justsaying',\n",
       "       'jw1ubodi', 'jzmvbdnm', 'k10svnnr', 'k2rrc2ir', 'k3txy6jz',\n",
       "       'kahnfla7', 'teaching', 'killing', 'kind', 'kinda', 'la', 'lab',\n",
       "       'labs', 'lack', 'lacks', 'tah_med', 'laggin', 'land', 'l5mtm6ig',\n",
       "       'languages', 'laptop', 'tagged', 'late', 'latest', 'launched',\n",
       "       'zzk4ftii', 'launching', 'law', 'lapse', 'joelplane', 'l5j2ueeq',\n",
       "       'kwfpth4p', 'kindahow', 'tap', 'kiss', 'kissed', 'tango',\n",
       "       'kj890kmf', 'kjwugom3', 'talks', 'l4hqkv0c', 'klout', 'takes',\n",
       "       'knowyourmobile', 'knw', 'kobo', 'kong', 'takeover', 'kudos',\n",
       "       'kursed', 'knew', 'lawsuits', 'joelburns', 'joannejacobs', 'test',\n",
       "       'iphone2', 'iphone4', 'terrystorch', 'iphone5', 'iphonecases',\n",
       "       'terrible', 'iphoto', 'iplaw360', 'terminal', 'iqa0ipvt',\n",
       "       'irvysan'], dtype='<U33')"
      ]
     },
     "execution_count": 48,
     "metadata": {},
     "output_type": "execute_result"
    }
   ],
   "source": [
    "feature_names_neg = feature_names[ind_top[0]]\n",
    "feature_names_neg"
   ]
  },
  {
   "cell_type": "code",
   "execution_count": 49,
   "metadata": {},
   "outputs": [
    {
     "data": {
      "text/plain": [
       "array(['00', 'mixedchik22', 'mixer', 'mmm', 'mn2nova', 'mn39r2vc',\n",
       "       'mobileburn', 'mobileme', 'models', 'mole', 'mom', 'moment',\n",
       "       'monday', 'monopolistic', 'monopoly', 'month', 'months', 'mood',\n",
       "       'missing', 'minute', 'mins', 'mine', 'merchandising', 'messages',\n",
       "       'messed', 'messy', 'metro', 'microsoftstores', 'middle',\n",
       "       'midnight', 'morning', 'might', 'mikeferri', 'miley', 'mileycyrus',\n",
       "       'millenia', 'millions', 'mimecastsa', 'min', 'mind', 'mightily',\n",
       "       'mentor', 'mountainview', 'movies', 'navigation', 'naw',\n",
       "       'nb4dhlsg', 'ndk', 'nearest', 'neat', 'neck', 'need4s', 'needed',\n",
       "       'needless', 'neednewipadguide', 'needsomethingtoread', 'negative',\n",
       "       'nerdboner', 'nerdiness', 'nervous', 'netbooks', 'nav', 'native',\n",
       "       'nationalgeographic', 'nansen', 'moving', 'mp', 'mr', 'mrgareth',\n",
       "       'msft', 'msg', 'mspegypt', 'mswx6eo6', 'mouse', 'mts11', 'muchhh',\n",
       "       'mulling', 'music', 'muuwbgpn', 'mv', 'n9', 'nagoul1', 'nam',\n",
       "       'mtu7tgx7', 'mentions', 'member', 'melaleucathewellnesscompany',\n",
       "       'literally', 'lives', 'lk', 'llslrxfm', 'lmao', 'lmfao', 'loathe',\n",
       "       'lobby', 'local', 'locate', 'located', 'logic2020', 'lolol'],\n",
       "      dtype='<U33')"
      ]
     },
     "execution_count": 49,
     "metadata": {},
     "output_type": "execute_result"
    }
   ],
   "source": [
    "feature_names_pos = feature_names[ind_top[1]]\n",
    "feature_names_pos"
   ]
  },
  {
   "cell_type": "code",
   "execution_count": 50,
   "metadata": {},
   "outputs": [
    {
     "data": {
      "text/plain": [
       "array(['00', 'moment', 'moments', 'mommy_gaga', 'moms', 'mon', 'money',\n",
       "       'monitoring', 'montrelcox', 'mom', 'mood', 'moto', 'motoactiv',\n",
       "       'motorola', 'mountainview', 'mouse', 'mousecombos', 'movement',\n",
       "       'movie', 'morning', 'moving', 'modify', 'mobiletechworld',\n",
       "       'mikeshatzkin', 'milestone', 'miley', 'millenia', 'million',\n",
       "       'millions', 'mimecastsa', 'min', 'models', 'mind', 'mindtree',\n",
       "       'mines', 'missed', 'mixer', 'mmm', 'mms14pdw', 'mn2nova',\n",
       "       'mobilenews', 'mindshare', 'mp3', 'mpromo', 'mr_malie504',\n",
       "       'nanotech', 'nationalgeographic', 'native', 'natural',\n",
       "       'navigation', 'naw', 'nawwaf91', 'nayarivera', 'naming',\n",
       "       'ncqrwpyb', 'ndrpciy9', 'nearest', 'neat', 'need4s', 'nejbye',\n",
       "       'neon_ness', 'neowin', 'nerdboner', 'ndk', 'named', 'nagoya', 'n9',\n",
       "       'mrgareth', 'mrkt', 'ms', 'msamberpriley', 'msantram', 'mshfeqe6',\n",
       "       'msleamichele', 'mspegypt', 'msqsvmdk', 'mswx6eo6', 'mt9rdrcz',\n",
       "       'mts11', 'mtu7tgx7', 'mugambi', 'multiple', 'multitenant',\n",
       "       'muuwbgpn', 'mv', 'myhoopdreams', 'mikeshat', 'migrate', 'middle',\n",
       "       'microsoftstores', 'london', 'lookin', 'loved', 'lovee',\n",
       "       'loveguru_b', 'lovemyiphone', 'lovers', 'loves', 'lolol',\n",
       "       'lovethem'], dtype='<U33')"
      ]
     },
     "execution_count": 50,
     "metadata": {},
     "output_type": "execute_result"
    }
   ],
   "source": [
    "feature_names_neu = feature_names[ind_top[2]]\n",
    "feature_names_neu"
   ]
  },
  {
   "cell_type": "code",
   "execution_count": null,
   "metadata": {},
   "outputs": [],
   "source": []
  }
 ],
 "metadata": {
  "kernelspec": {
   "display_name": "Python 3",
   "language": "python",
   "name": "python3"
  },
  "language_info": {
   "codemirror_mode": {
    "name": "ipython",
    "version": 3
   },
   "file_extension": ".py",
   "mimetype": "text/x-python",
   "name": "python",
   "nbconvert_exporter": "python",
   "pygments_lexer": "ipython3",
   "version": "3.7.3"
  }
 },
 "nbformat": 4,
 "nbformat_minor": 2
}
